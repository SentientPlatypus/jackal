{
 "cells": [
  {
   "cell_type": "code",
   "execution_count": 1,
   "metadata": {},
   "outputs": [],
   "source": [
    "import math\n",
    "import numpy as np"
   ]
  },
  {
   "cell_type": "code",
   "execution_count": 2,
   "metadata": {},
   "outputs": [],
   "source": [
    "walls = np.array([\n",
    "    [[0,0],[10,0]],\n",
    "    [[10,0],[10,5]],\n",
    "    [[10,5],[0,5]],\n",
    "    [[0,5],[0,0]],\n",
    "])\n",
    "\n",
    "walls_offset = np.array([\n",
    "    [[0,0],[10,0]],\n",
    "    [[10.5,0],[10,5]],\n",
    "    [[10,5],[0,5.81]],\n",
    "    [[0.7,5],[0,0.1]],\n",
    "])\n",
    "\n",
    "walls_non_convex = np.array([\n",
    "    [[0,0],[10,0]],\n",
    "    [[10,0],[10,10]],\n",
    "    [[10,10],[0,10]],\n",
    "    [[0,10],[0,0]],\n",
    "    [[7.5,2.5], [2.5,2.5]],\n",
    "    [[7.5,7.5], [7.5,2.5]],\n",
    "    [[2.5,7.5], [7.5,7.5]],\n",
    "    [[2.5,2.5],[2.5,7.5],],\n",
    "])\n",
    "\n",
    "walls_non_convex_offset = np.array([\n",
    "    [[0,0],[10,0]],\n",
    "    [[10,0.05],[10,10]],\n",
    "    [[10,10],[0,10]],\n",
    "    [[0,10],[0,0]],\n",
    "    [[7.5,2.5], [2.5,2.55]],\n",
    "    [[8.505,7.5], [7.5,2.5]],\n",
    "    [[2.5,7.5], [7.55,7.5]],\n",
    "    [[2.5,2.505],[3.55,7.5],],\n",
    "])\n"
   ]
  },
  {
   "cell_type": "code",
   "execution_count": 3,
   "metadata": {},
   "outputs": [
    {
     "name": "stdout",
     "output_type": "stream",
     "text": [
      "[[ 0.  1.]\n",
      " [10.  1.]]\n"
     ]
    }
   ],
   "source": [
    "def shift(wall:np.array, d):\n",
    "    \"\"\"This will shift the wall by d units assuming the wall is always on the right\n",
    "    \n",
    "    >>> shift([[0, 0],[10, 0]], 1)\n",
    "    >>> [[0, 1],[10, 1]]\n",
    "    \"\"\"\n",
    "    \n",
    "    dx, dy = wall[1, 0]-wall[0, 0], wall[1, 1]-wall[0,1]\n",
    "    distance = math.sqrt(dy**2 + dx **2)\n",
    "    translation_vec = np.array([-dy, dx]) / distance * d\n",
    "\n",
    "    shifted_wall = []\n",
    "    for coord in wall:\n",
    "        newcoord = np.array(coord) + translation_vec\n",
    "        shifted_wall.append(list(newcoord))\n",
    "\n",
    "    return np.array(shifted_wall)\n",
    "\n",
    "\n",
    "print(shift(walls[0], 1))"
   ]
  },
  {
   "cell_type": "code",
   "execution_count": 4,
   "metadata": {},
   "outputs": [
    {
     "name": "stdout",
     "output_type": "stream",
     "text": [
      "[[[ 0.  1.]\n",
      "  [10.  1.]]\n",
      "\n",
      " [[ 9.  0.]\n",
      "  [ 9.  5.]]\n",
      "\n",
      " [[10.  4.]\n",
      "  [ 0.  4.]]\n",
      "\n",
      " [[ 1.  5.]\n",
      "  [ 1.  0.]]]\n"
     ]
    }
   ],
   "source": [
    "def shiftall(walls:np.array, d):\n",
    "    walls_shifted = []\n",
    "    for wall in walls:\n",
    "        walls_shifted.append(shift(wall, d))\n",
    "    \n",
    "    return np.array(walls_shifted)\n",
    "\n",
    "print(shiftall(walls, 1))"
   ]
  },
  {
   "cell_type": "code",
   "execution_count": 5,
   "metadata": {},
   "outputs": [
    {
     "name": "stdout",
     "output_type": "stream",
     "text": [
      "{0: 1, 1: 2, 2: 3, 3: 0, 4: 7, 5: 4, 6: 5, 7: 6}\n"
     ]
    }
   ],
   "source": [
    "def cornermatch(walls:np.array):\n",
    "    \"\"\"This function will return a dictionary that maps indices to other indices based off of which other wall has the closest starting point to the first walls endpoint\"\"\"\n",
    "    graph = {}\n",
    "    for i in range(len(walls)):\n",
    "        minindex = 0\n",
    "        for j in range(len(walls)):\n",
    "            if i == j:\n",
    "                continue\n",
    "\n",
    "            distance = math.sqrt((walls[i, 1, 1]-walls[j, 0, 1])**2 + (walls[i, 1, 0]-walls[j, 0, 0])**2)\n",
    "            minindex = j if math.sqrt((walls[i, 1, 1]-walls[minindex, 0, 1])**2 + (walls[i, 1, 0]-walls[minindex, 0, 0])**2) > distance else minindex\n",
    "        graph[i] = minindex\n",
    "    return graph\n",
    "\n",
    "\n",
    "print(cornermatch(walls_non_convex))"
   ]
  },
  {
   "cell_type": "code",
   "execution_count": 6,
   "metadata": {},
   "outputs": [
    {
     "name": "stdout",
     "output_type": "stream",
     "text": [
      "(10.0, 5.0)\n"
     ]
    }
   ],
   "source": [
    "def intersect(w1, w2):\n",
    "    def find_line_equation(point1, point2):\n",
    "        x1, y1 = point1\n",
    "        x2, y2 = point2\n",
    "\n",
    "        # Calculate the slope (m)\n",
    "        if x2 - x1 != 0:\n",
    "            slope = (y2 - y1) / (x2 - x1)\n",
    "        else:\n",
    "            # The slope is undefined for vertical lines (x2 - x1 = 0)\n",
    "            slope = 99999\n",
    "\n",
    "        # Calculate the y-intercept (b)\n",
    "        y_intercept = y1 - slope * x1\n",
    "\n",
    "        return slope, y_intercept\n",
    "\n",
    "    # Get the equations of the two lines\n",
    "    m1, b1 = find_line_equation(w1[0], w1[1])\n",
    "    m2, b2 = find_line_equation(w2[0], w2[1])\n",
    "\n",
    "    # Check if the lines are parallel (no intersection)\n",
    "    if m1 == m2:\n",
    "        return None\n",
    "\n",
    "    # Calculate the x-coordinate of the intersection point\n",
    "    x_intersection = (b2 - b1) / (m1 - m2)\n",
    "\n",
    "    # Calculate the y-coordinate using one of the line equations\n",
    "    y_intersection = m1 * x_intersection + b1\n",
    "\n",
    "    return round(x_intersection, 2), round(y_intersection, 2)\n",
    "\n",
    "print(intersect(walls[1], walls[2]))"
   ]
  },
  {
   "cell_type": "code",
   "execution_count": 7,
   "metadata": {},
   "outputs": [],
   "source": [
    "def cornermerge(walls_shifted:np.array, wall_graph:dict):\n",
    "    bloated_walls = walls_shifted.copy()\n",
    "    for k in wall_graph.keys():\n",
    "        ipoint = intersect(walls_shifted[k], walls_shifted[wall_graph[k]])\n",
    "        bloated_walls[k, 1]= ipoint\n",
    "        bloated_walls[wall_graph[k], 0] = ipoint\n",
    "    \n",
    "    return bloated_walls\n",
    "    "
   ]
  },
  {
   "cell_type": "code",
   "execution_count": 8,
   "metadata": {},
   "outputs": [],
   "source": [
    "def cornerRepair(walls:np.array, walls_shifted:np.array):\n",
    "    wall_graph = cornermatch(walls)\n",
    "    walls_bloat = cornermerge(walls_shifted, wall_graph)\n",
    "    return walls_bloat\n",
    "\n"
   ]
  },
  {
   "cell_type": "code",
   "execution_count": 9,
   "metadata": {},
   "outputs": [
    {
     "name": "stdout",
     "output_type": "stream",
     "text": [
      "[[[1. 1.]\n",
      "  [9. 1.]]\n",
      "\n",
      " [[9. 1.]\n",
      "  [9. 4.]]\n",
      "\n",
      " [[9. 4.]\n",
      "  [1. 4.]]\n",
      "\n",
      " [[1. 4.]\n",
      "  [1. 1.]]]\n"
     ]
    }
   ],
   "source": [
    "def bloat(walls:np.array, d):\n",
    "    walls_shifted = shiftall(walls, d)\n",
    "    return cornerRepair(walls, walls_shifted)\n",
    "\n",
    "print(bloat(walls, 1))"
   ]
  },
  {
   "cell_type": "markdown",
   "metadata": {},
   "source": [
    "# plotting functions"
   ]
  },
  {
   "cell_type": "code",
   "execution_count": 10,
   "metadata": {},
   "outputs": [],
   "source": [
    "import matplotlib.pyplot as plt"
   ]
  },
  {
   "cell_type": "code",
   "execution_count": 11,
   "metadata": {},
   "outputs": [
    {
     "data": {
      "image/png": "[encoded data removed]",
      "text/plain": [
       "<Figure size 432x288 with 1 Axes>"
      ]
     },
     "metadata": {
      "needs_background": "light"
     },
     "output_type": "display_data"
    }
   ],
   "source": [
    "def plot_walls(walls, bloated):\n",
    "    for wall in walls:\n",
    "        x_values = [point[0] for point in wall]\n",
    "        y_values = [point[1] for point in wall]\n",
    "        plt.plot(x_values, y_values, color=\"blue\")\n",
    "\n",
    "    for wall in bloated:\n",
    "        x_values = [point[0] for point in wall]\n",
    "        y_values = [point[1] for point in wall]\n",
    "        plt.plot(x_values, y_values, color=\"green\")\n",
    "\n",
    "    plt.xlabel('X-axis')\n",
    "    plt.ylabel('Y-axis')\n",
    "    plt.title('Plot of Walls')\n",
    "    plt.grid(True)\n",
    "    plt.gca().set_aspect('equal')\n",
    "    plt.show()\n",
    "\n",
    "plot_walls(walls, bloat(walls, 1))"
   ]
  },
  {
   "cell_type": "markdown",
   "metadata": {},
   "source": [
    "# Testing"
   ]
  },
  {
   "cell_type": "code",
   "execution_count": 12,
   "metadata": {},
   "outputs": [
    {
     "data": {
      "image/png": "[encoded data removed]",
      "text/plain": [
       "<Figure size 432x288 with 1 Axes>"
      ]
     },
     "metadata": {
      "needs_background": "light"
     },
     "output_type": "display_data"
    }
   ],
   "source": [
    "plot_walls(walls, bloat(walls, 1))"
   ]
  },
  {
   "cell_type": "code",
   "execution_count": 13,
   "metadata": {},
   "outputs": [
    {
     "data": {
      "image/png": "[encoded data removed]",
      "text/plain": [
       "<Figure size 432x288 with 1 Axes>"
      ]
     },
     "metadata": {
      "needs_background": "light"
     },
     "output_type": "display_data"
    }
   ],
   "source": [
    "plot_walls(walls_offset, bloat(walls_offset, 1))"
   ]
  },
  {
   "cell_type": "code",
   "execution_count": 14,
   "metadata": {},
   "outputs": [
    {
     "data": {
      "image/png": "[encoded data removed]",
      "text/plain": [
       "<Figure size 432x288 with 1 Axes>"
      ]
     },
     "metadata": {
      "needs_background": "light"
     },
     "output_type": "display_data"
    }
   ],
   "source": [
    "plot_walls(walls_non_convex, bloat(walls_non_convex, .5))"
   ]
  },
  {
   "cell_type": "code",
   "execution_count": 15,
   "metadata": {},
   "outputs": [
    {
     "data": {
      "image/png": "[encoded data removed]",
      "text/plain": [
       "<Figure size 432x288 with 1 Axes>"
      ]
     },
     "metadata": {
      "needs_background": "light"
     },
     "output_type": "display_data"
    }
   ],
   "source": [
    "plot_walls(walls_non_convex_offset, bloat(walls_non_convex_offset, .5))"
   ]
  },
  {
   "cell_type": "markdown",
   "metadata": {},
   "source": [
    "# Reading from file"
   ]
  },
  {
   "cell_type": "code",
   "execution_count": 18,
   "metadata": {},
   "outputs": [
    {
     "name": "stdout",
     "output_type": "stream",
     "text": [
      "[[[ 0.   0. ]\n",
      "  [10.   0. ]]\n",
      "\n",
      " [[10.   0. ]\n",
      "  [10.  10. ]]\n",
      "\n",
      " [[10.  10. ]\n",
      "  [ 0.  10. ]]\n",
      "\n",
      " [[ 0.  10. ]\n",
      "  [ 0.   0. ]]\n",
      "\n",
      " [[ 7.5  2.5]\n",
      "  [ 2.5  2.5]]\n",
      "\n",
      " [[ 7.5  7.5]\n",
      "  [ 7.5  2.5]]\n",
      "\n",
      " [[ 2.5  7.5]\n",
      "  [ 7.5  7.5]]\n",
      "\n",
      " [[ 2.5  2.5]\n",
      "  [ 2.5  7.5]]]\n"
     ]
    }
   ],
   "source": [
    "def walls_from_file(filename):\n",
    "    walls = np.loadtxt(filename)\n",
    "    return walls.reshape(-1, 2, 2)\n",
    "\n",
    "def walls_to_file(walls, filename):\n",
    "    with open(filename, 'w') as file:\n",
    "        for wall in walls:\n",
    "            x1, y1 = wall[0]\n",
    "            x2, y2 = wall[1]\n",
    "            file.write(f\"{x1} {y1} {x2} {y2}\\n\")\n",
    "\n",
    "walls_to_file(walls_non_convex, \"walls.txt\")\n",
    "print(walls_from_file(\"walls.txt\"))"
   ]
  }
 ],
 "metadata": {
  "kernelspec": {
   "display_name": "Python 3",
   "language": "python",
   "name": "python3"
  },
  "language_info": {
   "codemirror_mode": {
    "name": "ipython",
    "version": 3
   },
   "file_extension": ".py",
   "mimetype": "text/x-python",
   "name": "python",
   "nbconvert_exporter": "python",
   "pygments_lexer": "ipython3",
   "version": "3.9.5"
  },
  "orig_nbformat": 4
 },
 "nbformat": 4,
 "nbformat_minor": 2
}
